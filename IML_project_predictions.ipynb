{
  "nbformat": 4,
  "nbformat_minor": 0,
  "metadata": {
    "colab": {
      "provenance": []
    },
    "kernelspec": {
      "name": "python3",
      "display_name": "Python 3"
    },
    "language_info": {
      "name": "python"
    }
  },
  "cells": [
    {
      "cell_type": "code",
      "source": [
        "import pandas as pd\n",
        "import numpy as np\n",
        "from tabulate import tabulate\n",
        "\n",
        "def display(data, message):\n",
        "    print(message)\n",
        "    print(tabulate(data, headers=\"keys\", tablefmt=\"HTML\"))\n",
        "    print()\n",
        "\n",
        "def preprocess_weather(k, v):\n",
        "    print(k, v)\n",
        "    data = pd.read_excel(v)\n",
        "    data[\"Origin AirportArr\"] = k\n",
        "    data[\"Date\"] = data[\"time\"].dt.date\n",
        "    data[\"Scheduled departure hour\"] = data[\"time\"].dt.hour\n",
        "    data[\"Scheduled departure hour\"].astype(\"str\")\n",
        "    display(data.head(10), \"Weather\")\n",
        "    return data\n",
        "\n",
        "def weather_data():\n",
        "    kv = {\"ORD\": \"/content/ORD_weather.xlsx\",\n",
        "          \"EWR\": \"/content/EWR_weather.xlsx\",\n",
        "          \"DEN\": \"/content/DEN_weather.xlsx\",\n",
        "          \"IAD\": \"/content/IAD_weather.xlsx\"}\n",
        "\n",
        "    ORD_weather = preprocess_weather(\"ORD\", kv[\"ORD\"])\n",
        "    EWR_weather = preprocess_weather(\"EWR\", kv[\"EWR\"])\n",
        "    DEN_weather = preprocess_weather(\"DEN\", kv[\"DEN\"])\n",
        "    IAD_weather = preprocess_weather(\"IAD\", kv[\"IAD\"])\n",
        "    ORD_weather.to_excel(\"/content/ORD_processed_weather.xlsx\")\n",
        "    EWR_weather.to_excel(\"/content/EWR_processed_weather.xlsx\")\n",
        "    DEN_weather.to_excel(\"/content/DEN_processed_weather.xlsx\")\n",
        "    IAD_weather.to_excel(\"/content/IAD_processed_weather.xlsx\")\n",
        "    return\n",
        "\n",
        "def combine_weather_flight():\n",
        "    ORD_weather = pd.read_excel(\"/content/ORD_processed_weather.xlsx\")\n",
        "    EWR_weather = pd.read_excel(\"/content/EWR_processed_weather.xlsx\")\n",
        "    DEN_weather = pd.read_excel(\"/content/DEN_processed_weather.xlsx\")\n",
        "    IAD_weather = pd.read_excel(\"/content/IAD_processed_weather.xlsx\")\n",
        "    weather_data = pd.concat([ORD_weather, EWR_weather, DEN_weather, IAD_weather], ignore_index = True)\n",
        "\n",
        "    print(len(weather_data))\n",
        "    flight_data = pd.read_excel(\"/content/combined_csv.xlsx\")\n",
        "    flight_data[\"Date\"] = flight_data[\"Date\"].dt.date\n",
        "    flight_data[\"Date\"] = pd.to_datetime(flight_data[\"Date\"])\n",
        "    flight_data[\"Scheduled departure hour\"] = pd.to_datetime(flight_data[\"Scheduled departure time\"], format=\"%H:%M\").dt.hour\n",
        "\n",
        "    display(weather_data.head(), \"WEather\")\n",
        "    display(flight_data.head(), \"Flight\")\n",
        "\n",
        "    final = flight_data.merge(weather_data, how = \"inner\", on = [\"Date\", \"Scheduled departure hour\", \"Origin AirportArr\"])\n",
        "\n",
        "    display(final, \"\")\n",
        "    final.to_excel(\"/content/combined_flight_weather.xlsx\")"
      ],
      "metadata": {
        "id": "CqXYHG3YkzzJ"
      },
      "execution_count": null,
      "outputs": []
    },
    {
      "cell_type": "code",
      "execution_count": 1,
      "metadata": {
        "id": "eEQWJo7APg1h"
      },
      "outputs": [],
      "source": [
        "import matplotlib.pyplot as plt\n",
        "import seaborn as sns\n",
        "from numpy import loadtxt\n",
        "from xgboost import XGBRegressor\n",
        "from sklearn.model_selection import train_test_split\n",
        "from sklearn.metrics import accuracy_score"
      ]
    },
    {
      "cell_type": "code",
      "source": [
        "data = pd.read_excel(\"/content/preprocssed_flight_weather (2).xlsx\")\n",
        "data.drop(columns = ['Unnamed: 0', 'Carrier Code_Arr'], inplace = True)\n",
        "\n",
        "# data = data[(data['Date'].dt.month==4) | (data['Date'].dt.month==3) | (data['Date'].dt.month==5)] \n",
        "# | (data['Date'].dt.month==6) | (data['Date'].dt.month==7) | (data['Date'].dt.month==8) | (data['Date'].dt.month==9)]\n",
        "\n",
        "# data = data[data['Date'].dt.month==4]\n",
        "\n",
        "data['Scheduled Arrival hour'] = pd.to_datetime(data['Scheduled Arrival Time'], format = '%H:%M').dt.hour\n",
        "data['Scheduled Arrival minutes'] = pd.to_datetime(data['Scheduled Arrival Time'], format = '%H:%M').dt.minute\n",
        "# data['day_of_week'] = if data['Date'].dt.weekday\n",
        "\n",
        "# df['my_dates'] = pd.to_datetime(df['my_dates'])\n",
        "data['day_of_week'] = data['Date'].dt.dayofweek\n",
        "\n",
        "days = {0:0,1:0,2:0,3:0,4:1,5:1,6:1}\n",
        "\n",
        "data['day_of_week'] = data['day_of_week'].apply(lambda x: days[x])\n",
        "data.drop(columns = ['Date', 'Flight Number', 'Origin AirportArr', 'Scheduled Arrival Time',\n",
        "                     'Scheduled departure time', 'Departure delay (Minutes)', 'Arrival Delay (Minutes)',\n",
        "                     'time', 'surface_pressure (hPa)', 'snowfall (cm)', 'windspeed_100m (km/h)', \n",
        "                     'windspeed_10m (km/h)', 'temperature_2m (°C)', 'rain (mm)', 'weathercode (wmo code)',\n",
        "                     'Scheduled elapsed time (Minutes)', 'Scheduled Elapsed Time (Minutes)', \n",
        "                     'Delay Carrier (Minutes)_Arr', 'Destination Airport_Dep'], inplace = True)\n",
        "\n",
        "# data.drop(columns = ['Date', 'Flight Number', 'Origin AirportArr', 'Scheduled Arrival Time',\n",
        "#                      'Scheduled departure time', 'Departure delay (Minutes)', 'Arrival Delay (Minutes)',\n",
        "#                      'time',  \n",
        "#                      'Delay Carrier (Minutes)_Arr', 'Destination Airport_Dep'], inplace = True)"
      ],
      "metadata": {
        "id": "Pr9Z-4N3Pldi"
      },
      "execution_count": 47,
      "outputs": []
    },
    {
      "cell_type": "code",
      "source": [
        "for col in data.columns: \n",
        "    data[col].hist()\n",
        "    print(col)\n",
        "    plt.show()"
      ],
      "metadata": {
        "colab": {
          "base_uri": "https://localhost:8080/",
          "height": 1000
        },
        "id": "sHwlKFmVUOcT",
        "outputId": "777f4c49-d069-45f1-f3b6-6c72b1d96e02"
      },
      "execution_count": 48,
      "outputs": [
        {
          "output_type": "stream",
          "name": "stdout",
          "text": [
            "Origin Airport_Dep\n"
          ]
        },
        {
          "output_type": "display_data",
          "data": {
            "text/plain": [
              "<Figure size 640x480 with 1 Axes>"
            ],
            "image/png": "[encoded data removed]"
          },
          "metadata": {}
        },
        {
          "output_type": "stream",
          "name": "stdout",
          "text": [
            "Scheduled departure hour\n"
          ]
        },
        {
          "output_type": "display_data",
          "data": {
            "text/plain": [
              "<Figure size 640x480 with 1 Axes>"
            ],
            "image/png": "[encoded data removed]"
          },
          "metadata": {}
        },
        {
          "output_type": "stream",
          "name": "stdout",
          "text": [
            "Arrival delay (cat)\n"
          ]
        },
        {
          "output_type": "display_data",
          "data": {
            "text/plain": [
              "<Figure size 640x480 with 1 Axes>"
            ],
            "image/png": "[encoded data removed]"
          },
          "metadata": {}
        },
        {
          "output_type": "stream",
          "name": "stdout",
          "text": [
            "Scheduled Arrival hour\n"
          ]
        },
        {
          "output_type": "display_data",
          "data": {
            "text/plain": [
              "<Figure size 640x480 with 1 Axes>"
            ],
            "image/png": "[encoded data removed]"
          },
          "metadata": {}
        },
        {
          "output_type": "stream",
          "name": "stdout",
          "text": [
            "Scheduled Arrival minutes\n"
          ]
        },
        {
          "output_type": "display_data",
          "data": {
            "text/plain": [
              "<Figure size 640x480 with 1 Axes>"
            ],
            "image/png": "[encoded data removed]"
          },
          "metadata": {}
        },
        {
          "output_type": "stream",
          "name": "stdout",
          "text": [
            "day_of_week\n"
          ]
        },
        {
          "output_type": "display_data",
          "data": {
            "text/plain": [
              "<Figure size 640x480 with 1 Axes>"
            ],
            "image/png": "[encoded data removed]"
          },
          "metadata": {}
        }
      ]
    },
    {
      "cell_type": "code",
      "source": [
        "data = pd.read_excel(\"/content/preprocssed_flight_weather (2).xlsx\")"
      ],
      "metadata": {
        "id": "G-b-TM-hHDwK"
      },
      "execution_count": 3,
      "outputs": []
    },
    {
      "cell_type": "code",
      "source": [
        "corr = data.corr()\n",
        "\n",
        "fig, ax = plt.subplots(figsize=(12, 12))\n",
        "\n",
        "sns.heatmap(corr, annot=True, cmap='coolwarm')\n",
        "plt.title('Correlation Matrix')\n",
        "plt.show()"
      ],
      "metadata": {
        "colab": {
          "base_uri": "https://localhost:8080/",
          "height": 1000
        },
        "id": "CcOQDPUTHy4Z",
        "outputId": "03812a6b-75c1-4e38-84f1-51b6235fdb36"
      },
      "execution_count": 38,
      "outputs": [
        {
          "output_type": "stream",
          "name": "stderr",
          "text": [
            "<ipython-input-38-3ee73c814820>:1: FutureWarning: The default value of numeric_only in DataFrame.corr is deprecated. In a future version, it will default to False. Select only valid columns or specify the value of numeric_only to silence this warning.\n",
            "  corr = data.corr()\n"
          ]
        },
        {
          "output_type": "display_data",
          "data": {
            "text/plain": [
              "<Figure size 1200x1200 with 2 Axes>"
            ],
            "image/png": "[encoded data removed]"
          },
          "metadata": {}
        }
      ]
    },
    {
      "cell_type": "code",
      "source": [
        "data.shape"
      ],
      "metadata": {
        "colab": {
          "base_uri": "https://localhost:8080/"
        },
        "id": "oRDy7mazVHRd",
        "outputId": "3275fe75-9440-43db-d420-ebb33d851a67"
      },
      "execution_count": 5,
      "outputs": [
        {
          "output_type": "execute_result",
          "data": {
            "text/plain": [
              "(6802, 24)"
            ]
          },
          "metadata": {},
          "execution_count": 5
        }
      ]
    },
    {
      "cell_type": "code",
      "source": [
        "list(data.columns)"
      ],
      "metadata": {
        "colab": {
          "base_uri": "https://localhost:8080/"
        },
        "id": "TXehk87XQNp8",
        "outputId": "ae6d9978-7b61-4b6b-a626-907269b522b1"
      },
      "execution_count": 11,
      "outputs": [
        {
          "output_type": "execute_result",
          "data": {
            "text/plain": [
              "['Scheduled Elapsed Time (Minutes)',\n",
              " 'Arrival Delay (Minutes)',\n",
              " 'Scheduled elapsed time (Minutes)',\n",
              " 'Departure delay (Minutes)',\n",
              " 'Origin Airport_Dep',\n",
              " 'Scheduled departure hour',\n",
              " 'temperature_2m (°C)',\n",
              " 'surface_pressure (hPa)',\n",
              " 'rain (mm)',\n",
              " 'snowfall (cm)',\n",
              " 'weathercode (wmo code)',\n",
              " 'windspeed_10m (km/h)',\n",
              " 'windspeed_100m (km/h)',\n",
              " 'Arrival delay (cat)',\n",
              " 'Scheduled Arrival hour',\n",
              " 'Scheduled Arrival minutes',\n",
              " 'day_of_week']"
            ]
          },
          "metadata": {},
          "execution_count": 11
        }
      ]
    },
    {
      "cell_type": "code",
      "source": [
        "data['Arrival delay (cat)'].value_counts()"
      ],
      "metadata": {
        "colab": {
          "base_uri": "https://localhost:8080/"
        },
        "id": "3lc1EiiTgq8s",
        "outputId": "da252fc3-f74e-471a-9898-82ef698e9384"
      },
      "execution_count": null,
      "outputs": [
        {
          "output_type": "execute_result",
          "data": {
            "text/plain": [
              "on-time             612\n",
              "early               164\n",
              "delayed             139\n",
              "severely delayed     95\n",
              "Name: Arrival delay (cat), dtype: int64"
            ]
          },
          "metadata": {},
          "execution_count": 5
        }
      ]
    },
    {
      "cell_type": "code",
      "source": [
        "from sklearn.preprocessing import LabelEncoder\n",
        "\n",
        "# Instantiate a LabelEncoder object\n",
        "le = LabelEncoder()\n",
        "\n",
        "# Fit the encoder to the string labels and transform them to integers\n",
        "# data['Arrival delay Ord'] = le.fit_transform(data['Arrival delay (cat)'])\n",
        "\n",
        "\n",
        "from sklearn.preprocessing import OrdinalEncoder\n",
        "\n",
        "# create an instance of the OrdinalEncoder class\n",
        "enc = OrdinalEncoder()\n",
        "\n",
        "# select the categorical columns to be transformed\n",
        "cat_cols = ['Origin Airport_Dep']\n",
        "\n",
        "# fit and transform the categorical columns\n",
        "data[cat_cols] = enc.fit_transform(data[cat_cols])\n",
        "X_train, X_test, y_train, y_test = train_test_split(data.drop(columns = ['Arrival delay (cat)']), \n",
        "                                                    data['Arrival delay (cat)'] , test_size=0.8, random_state=50)\n",
        "# fit model no training data\n",
        "from sklearn.linear_model import LogisticRegression\n",
        "\n",
        "model = LogisticRegression(fit_intercept = True, solver='newton-cg', multi_class = 'multinomial', penalty = 'none', max_iter = 1000)\n",
        "# model = LogisticRegression(fit_intercept = True, solver='lbfgs', multi_class = 'ovr', penalty = 'none', max_iter = 1000)\n",
        "# model = LogisticRegression(fit_intercept = True, solver='lbfgs', multi_class = 'multinomial', penalty = 'none', max_iter = 1000)\n",
        "# model = LogisticRegression(fit_intercept = True, solver='newton-cg', multi_class = 'multinomial', penalty = 'none', max_iter = 10000)\n",
        "\n",
        "# While using multiclass case do multi_class = 'ovr' or 'auto'; can also try other solvers\n",
        "# While doing regularization, use penalty = 'l2' and also C = 10.0 (need to try other values too)\n",
        "\n",
        "model.fit(X_train, y_train) \n",
        "\n",
        "# The following gives the mean accuracy on the given data and labels\n",
        "print(\"Score is : \", model.score(X_train, y_train) )\n",
        "model.score(X_train, y_train) \n",
        "\n",
        "# This is the coefficient Beta_1, ..., Beta_7\n",
        "model.coef_\n",
        "\n",
        "# This is the coefficient Beta_0\n",
        "model.intercept_"
      ],
      "metadata": {
        "colab": {
          "base_uri": "https://localhost:8080/"
        },
        "id": "VQqVnn5gPzmO",
        "outputId": "fd6c6f37-2fbc-42f3-f3b1-5c08943f6c4d"
      },
      "execution_count": 39,
      "outputs": [
        {
          "output_type": "stream",
          "name": "stdout",
          "text": [
            "Score is :  0.5594059405940595\n"
          ]
        },
        {
          "output_type": "stream",
          "name": "stderr",
          "text": [
            "/usr/local/lib/python3.10/dist-packages/sklearn/linear_model/_logistic.py:1173: FutureWarning: `penalty='none'`has been deprecated in 1.2 and will be removed in 1.4. To keep the past behaviour, set `penalty=None`.\n",
            "  warnings.warn(\n"
          ]
        },
        {
          "output_type": "execute_result",
          "data": {
            "text/plain": [
              "array([-4.09242623,  0.97073327,  1.76353416,  1.35815879])"
            ]
          },
          "metadata": {},
          "execution_count": 39
        }
      ]
    },
    {
      "cell_type": "code",
      "source": [
        "from xgboost import XGBClassifier\n",
        "model = XGBClassifier()\n",
        "\n",
        "cat_cols = ['Origin Airport_Dep', 'Arrival delay (cat)']\n",
        "\n",
        "data[cat_cols] = enc.fit_transform(data[cat_cols])\n",
        "X_train, X_test, y_train, y_test = train_test_split(data.drop(columns = ['Arrival delay (cat)']), \n",
        "                                                    data['Arrival delay (cat)'] , test_size=0.8, random_state=50)\n",
        "\n",
        "model.fit(X_train, y_train)\n",
        "\n",
        "print(\"Score is : \", model.score(X_train, y_train) )\n",
        "model.score(X_train, y_train) "
      ],
      "metadata": {
        "colab": {
          "base_uri": "https://localhost:8080/"
        },
        "id": "NEpkC7I-L_14",
        "outputId": "be38d7d8-a156-4913-d5be-f8ab4c26ba93"
      },
      "execution_count": 42,
      "outputs": [
        {
          "output_type": "stream",
          "name": "stdout",
          "text": [
            "Score is :  0.7326732673267327\n"
          ]
        },
        {
          "output_type": "execute_result",
          "data": {
            "text/plain": [
              "0.7326732673267327"
            ]
          },
          "metadata": {},
          "execution_count": 42
        }
      ]
    },
    {
      "cell_type": "code",
      "source": [
        "print(X_train.columns)\n",
        "len(X_train.columns)"
      ],
      "metadata": {
        "colab": {
          "base_uri": "https://localhost:8080/"
        },
        "id": "dHm9V9eiLTtl",
        "outputId": "e0c2dfd5-c504-435e-e7e8-af74365a35a8"
      },
      "execution_count": 41,
      "outputs": [
        {
          "output_type": "stream",
          "name": "stdout",
          "text": [
            "Index(['Origin Airport_Dep', 'Scheduled departure hour',\n",
            "       'Scheduled Arrival hour', 'Scheduled Arrival minutes', 'day_of_week'],\n",
            "      dtype='object')\n"
          ]
        },
        {
          "output_type": "execute_result",
          "data": {
            "text/plain": [
              "5"
            ]
          },
          "metadata": {},
          "execution_count": 41
        }
      ]
    },
    {
      "cell_type": "code",
      "source": [
        "print(\"Score is : \", model.score(X_test, y_test) )"
      ],
      "metadata": {
        "colab": {
          "base_uri": "https://localhost:8080/"
        },
        "id": "Uh9CKPZmSHVt",
        "outputId": "a9c13827-9e59-4117-d114-89c7e1adc39d"
      },
      "execution_count": 43,
      "outputs": [
        {
          "output_type": "stream",
          "name": "stdout",
          "text": [
            "Score is :  0.44554455445544555\n"
          ]
        }
      ]
    },
    {
      "cell_type": "code",
      "source": [
        "X_train.head()"
      ],
      "metadata": {
        "colab": {
          "base_uri": "https://localhost:8080/",
          "height": 206
        },
        "id": "cP1cL0aNRLT3",
        "outputId": "cf573c64-3e2e-4a68-9dff-2b291d7b76d2"
      },
      "execution_count": null,
      "outputs": [
        {
          "output_type": "execute_result",
          "data": {
            "text/plain": [
              "      Origin Airport_Dep  Scheduled departure hour  Scheduled Arrival hour  \\\n",
              "6467                 2.0                        22                      23   \n",
              "5909                 3.0                        18                      20   \n",
              "1266                 3.0                        16                      19   \n",
              "2533                 3.0                         6                       9   \n",
              "1377                 2.0                        21                      22   \n",
              "\n",
              "      Scheduled Arrival minutes  day_of_week  \n",
              "6467                         37            0  \n",
              "5909                         49            0  \n",
              "1266                         30            1  \n",
              "2533                         26            0  \n",
              "1377                         48            1  "
            ],
            "text/html": [
              "\n",
              "  <div id=\"df-2f9a7a00-a72a-4971-bad9-40f8ca4ce8a4\">\n",
              "    <div class=\"colab-df-container\">\n",
              "      <div>\n",
              "<style scoped>\n",
              "    .dataframe tbody tr th:only-of-type {\n",
              "        vertical-align: middle;\n",
              "    }\n",
              "\n",
              "    .dataframe tbody tr th {\n",
              "        vertical-align: top;\n",
              "    }\n",
              "\n",
              "    .dataframe thead th {\n",
              "        text-align: right;\n",
              "    }\n",
              "</style>\n",
              "<table border=\"1\" class=\"dataframe\">\n",
              "  <thead>\n",
              "    <tr style=\"text-align: right;\">\n",
              "      <th></th>\n",
              "      <th>Origin Airport_Dep</th>\n",
              "      <th>Scheduled departure hour</th>\n",
              "      <th>Scheduled Arrival hour</th>\n",
              "      <th>Scheduled Arrival minutes</th>\n",
              "      <th>day_of_week</th>\n",
              "    </tr>\n",
              "  </thead>\n",
              "  <tbody>\n",
              "    <tr>\n",
              "      <th>6467</th>\n",
              "      <td>2.0</td>\n",
              "      <td>22</td>\n",
              "      <td>23</td>\n",
              "      <td>37</td>\n",
              "      <td>0</td>\n",
              "    </tr>\n",
              "    <tr>\n",
              "      <th>5909</th>\n",
              "      <td>3.0</td>\n",
              "      <td>18</td>\n",
              "      <td>20</td>\n",
              "      <td>49</td>\n",
              "      <td>0</td>\n",
              "    </tr>\n",
              "    <tr>\n",
              "      <th>1266</th>\n",
              "      <td>3.0</td>\n",
              "      <td>16</td>\n",
              "      <td>19</td>\n",
              "      <td>30</td>\n",
              "      <td>1</td>\n",
              "    </tr>\n",
              "    <tr>\n",
              "      <th>2533</th>\n",
              "      <td>3.0</td>\n",
              "      <td>6</td>\n",
              "      <td>9</td>\n",
              "      <td>26</td>\n",
              "      <td>0</td>\n",
              "    </tr>\n",
              "    <tr>\n",
              "      <th>1377</th>\n",
              "      <td>2.0</td>\n",
              "      <td>21</td>\n",
              "      <td>22</td>\n",
              "      <td>48</td>\n",
              "      <td>1</td>\n",
              "    </tr>\n",
              "  </tbody>\n",
              "</table>\n",
              "</div>\n",
              "      <button class=\"colab-df-convert\" onclick=\"convertToInteractive('df-2f9a7a00-a72a-4971-bad9-40f8ca4ce8a4')\"\n",
              "              title=\"Convert this dataframe to an interactive table.\"\n",
              "              style=\"display:none;\">\n",
              "        \n",
              "  <svg xmlns=\"http://www.w3.org/2000/svg\" height=\"24px\"viewBox=\"0 0 24 24\"\n",
              "       width=\"24px\">\n",
              "    <path d=\"M0 0h24v24H0V0z\" fill=\"none\"/>\n",
              "    <path d=\"M18.56 5.44l.94 2.06.94-2.06 2.06-.94-2.06-.94-.94-2.06-.94 2.06-2.06.94zm-11 1L8.5 8.5l.94-2.06 2.06-.94-2.06-.94L8.5 2.5l-.94 2.06-2.06.94zm10 10l.94 2.06.94-2.06 2.06-.94-2.06-.94-.94-2.06-.94 2.06-2.06.94z\"/><path d=\"M17.41 7.96l-1.37-1.37c-.4-.4-.92-.59-1.43-.59-.52 0-1.04.2-1.43.59L10.3 9.45l-7.72 7.72c-.78.78-.78 2.05 0 2.83L4 21.41c.39.39.9.59 1.41.59.51 0 1.02-.2 1.41-.59l7.78-7.78 2.81-2.81c.8-.78.8-2.07 0-2.86zM5.41 20L4 18.59l7.72-7.72 1.47 1.35L5.41 20z\"/>\n",
              "  </svg>\n",
              "      </button>\n",
              "      \n",
              "  <style>\n",
              "    .colab-df-container {\n",
              "      display:flex;\n",
              "      flex-wrap:wrap;\n",
              "      gap: 12px;\n",
              "    }\n",
              "\n",
              "    .colab-df-convert {\n",
              "      background-color: #E8F0FE;\n",
              "      border: none;\n",
              "      border-radius: 50%;\n",
              "      cursor: pointer;\n",
              "      display: none;\n",
              "      fill: #1967D2;\n",
              "      height: 32px;\n",
              "      padding: 0 0 0 0;\n",
              "      width: 32px;\n",
              "    }\n",
              "\n",
              "    .colab-df-convert:hover {\n",
              "      background-color: #E2EBFA;\n",
              "      box-shadow: 0px 1px 2px rgba(60, 64, 67, 0.3), 0px 1px 3px 1px rgba(60, 64, 67, 0.15);\n",
              "      fill: #174EA6;\n",
              "    }\n",
              "\n",
              "    [theme=dark] .colab-df-convert {\n",
              "      background-color: #3B4455;\n",
              "      fill: #D2E3FC;\n",
              "    }\n",
              "\n",
              "    [theme=dark] .colab-df-convert:hover {\n",
              "      background-color: #434B5C;\n",
              "      box-shadow: 0px 1px 3px 1px rgba(0, 0, 0, 0.15);\n",
              "      filter: drop-shadow(0px 1px 2px rgba(0, 0, 0, 0.3));\n",
              "      fill: #FFFFFF;\n",
              "    }\n",
              "  </style>\n",
              "\n",
              "      <script>\n",
              "        const buttonEl =\n",
              "          document.querySelector('#df-2f9a7a00-a72a-4971-bad9-40f8ca4ce8a4 button.colab-df-convert');\n",
              "        buttonEl.style.display =\n",
              "          google.colab.kernel.accessAllowed ? 'block' : 'none';\n",
              "\n",
              "        async function convertToInteractive(key) {\n",
              "          const element = document.querySelector('#df-2f9a7a00-a72a-4971-bad9-40f8ca4ce8a4');\n",
              "          const dataTable =\n",
              "            await google.colab.kernel.invokeFunction('convertToInteractive',\n",
              "                                                     [key], {});\n",
              "          if (!dataTable) return;\n",
              "\n",
              "          const docLinkHtml = 'Like what you see? Visit the ' +\n",
              "            '<a target=\"_blank\" href=https://colab.research.google.com/notebooks/data_table.ipynb>data table notebook</a>'\n",
              "            + ' to learn more about interactive tables.';\n",
              "          element.innerHTML = '';\n",
              "          dataTable['output_type'] = 'display_data';\n",
              "          await google.colab.output.renderOutput(dataTable, element);\n",
              "          const docLink = document.createElement('div');\n",
              "          docLink.innerHTML = docLinkHtml;\n",
              "          element.appendChild(docLink);\n",
              "        }\n",
              "      </script>\n",
              "    </div>\n",
              "  </div>\n",
              "  "
            ]
          },
          "metadata": {},
          "execution_count": 8
        }
      ]
    },
    {
      "cell_type": "code",
      "source": [
        "# for 21-24th April predictions\n",
        "\n",
        "from sklearn.preprocessing import OrdinalEncoder\n",
        "\n",
        "# create an instance of the OrdinalEncoder class\n",
        "enc = OrdinalEncoder()\n",
        "\n",
        "import pandas as pd\n",
        "\n",
        "pred_data = pd.read_csv(\"/content/project csv(Apr 21-24).csv\")\n",
        "Dep = [\"7:10\",\"13:55\",\"18:40\",\"7:10\",\"13:55\",\"18:40\",\"7:10\",\"14:00\",\"18:40\",\"7:10\",\"13:55\",\"18:40\",\"9:51\",\"9:51\",\"9:51\",\"9:51\",\"9:15\",\"22:30\",\"9:15\",\"22:05\",\"9:15\",\"22:30\",\"9:15\",\"22:30\",\"12:43\",\"17:36\",\"12:43\",\"17:36\",\"12:43\",\"17:36\",\"12:43\",\"17:36\"]\n",
        "pred_data.drop(columns = ['Status (Early, On-time, Late, Severly Late)'], inplace = True)\n",
        "\n",
        "Dep = Dep + [None] * (len(pred_data) - len(Dep))\n",
        "\n",
        "pred_data['Scheduled departure time'] = Dep\n",
        "pred_data.dropna(inplace = True)\n",
        "pred_data['Scheduled departure time'] = pd.to_datetime(pred_data['Scheduled departure time'])\n",
        "pred_data['Origin AirportArr'] =  pred_data['Origin Airport']\n",
        "pred_data['Date'] = pred_data['Date'].astype(str)\n",
        "pred_data['Date'] = pred_data['Date'].apply(lambda x: x.replace('/', '-'))\n",
        "pred_data['Date'] = pd.to_datetime(pred_data['Date'])\n",
        "pred_data['Scheduled departure hour'] = pd.to_datetime(pred_data['Scheduled departure time']).dt.hour\n",
        "pred_data['Scheduled Arrival hour'] = pd.to_datetime(pred_data['Arrival Time'], format='%I:%M %p').dt.hour\n",
        "pred_data['Scheduled Arrival minutes'] = pd.to_datetime(pred_data['Arrival Time'], format='%I:%M %p').dt.minute\n",
        "pred_data['Origin Airport_Dep'] = pred_data['Origin AirportArr']\n",
        "pred_data['day_of_week'] = pred_data['Date'].dt.dayofweek\n",
        "pred_data['day_of_week'] = pred_data['day_of_week'].astype(int)\n",
        "\n",
        "days = {0:0,1:0,2:0,3:0,4:1,5:1,6:1}\n",
        "\n",
        "pred_data['day_of_week'] = pred_data['day_of_week'].apply(lambda x: days[x])\n",
        "\n",
        "pred_data.drop(columns = ['Flight Number', 'Date', 'Day', 'Origin Airport', 'Arrival Time',\n",
        "                          'Scheduled departure time', 'Origin AirportArr'], inplace = True)\n",
        "pred_data = pred_data.reindex(columns=['Origin Airport_Dep', 'Scheduled departure hour', 'Scheduled Arrival hour', 'Scheduled Arrival minutes', 'day_of_week'])\n",
        "cat_cols = ['Origin Airport_Dep']\n",
        "\n",
        "# fit and transform the categorical columns\n",
        "pred_data[cat_cols] = enc.fit_transform(pred_data[cat_cols])"
      ],
      "metadata": {
        "id": "q-hAad0VVDLP"
      },
      "execution_count": null,
      "outputs": []
    },
    {
      "cell_type": "code",
      "source": [
        "len(Dep)"
      ],
      "metadata": {
        "colab": {
          "base_uri": "https://localhost:8080/"
        },
        "id": "SrvL8imNhAbi",
        "outputId": "cf113cc6-a02b-4cae-b81c-d606653445c1"
      },
      "execution_count": null,
      "outputs": [
        {
          "output_type": "execute_result",
          "data": {
            "text/plain": [
              "54"
            ]
          },
          "metadata": {},
          "execution_count": 14
        }
      ]
    },
    {
      "cell_type": "code",
      "source": [
        "pred_data.shape"
      ],
      "metadata": {
        "colab": {
          "base_uri": "https://localhost:8080/"
        },
        "id": "9TOzeh0bgYey",
        "outputId": "7fb21217-3c00-4fbe-e6c2-08c1ecc8025d"
      },
      "execution_count": null,
      "outputs": [
        {
          "output_type": "execute_result",
          "data": {
            "text/plain": [
              "(29, 5)"
            ]
          },
          "metadata": {},
          "execution_count": 15
        }
      ]
    },
    {
      "cell_type": "code",
      "source": [
        "y_pred = model.predict(pred_data)"
      ],
      "metadata": {
        "id": "Lruxyc7LWKYm"
      },
      "execution_count": null,
      "outputs": []
    },
    {
      "cell_type": "code",
      "source": [
        "y_pred"
      ],
      "metadata": {
        "colab": {
          "base_uri": "https://localhost:8080/"
        },
        "id": "QG0e8Hc2WV8B",
        "outputId": "23e18e0e-5848-4cb1-f684-a11298fe9a44"
      },
      "execution_count": null,
      "outputs": [
        {
          "output_type": "execute_result",
          "data": {
            "text/plain": [
              "array(['on-time', 'on-time', 'on-time', 'on-time', 'on-time', 'on-time',\n",
              "       'on-time', 'on-time', 'on-time', 'early', 'on-time', 'on-time',\n",
              "       'on-time', 'on-time', 'on-time', 'on-time', 'on-time', 'on-time',\n",
              "       'on-time', 'on-time', 'on-time', 'on-time', 'on-time', 'on-time',\n",
              "       'on-time', 'on-time', 'on-time', 'on-time', 'on-time', 'on-time',\n",
              "       'on-time', 'on-time'], dtype=object)"
            ]
          },
          "metadata": {},
          "execution_count": 38
        }
      ]
    },
    {
      "cell_type": "code",
      "source": [
        "sub = pd.read_csv(\"/content/project csv(Apr 21-24).csv\")"
      ],
      "metadata": {
        "id": "oR-qBKknqAG8"
      },
      "execution_count": null,
      "outputs": []
    },
    {
      "cell_type": "code",
      "source": [
        "sub.head(35)"
      ],
      "metadata": {
        "colab": {
          "base_uri": "https://localhost:8080/",
          "height": 1000
        },
        "id": "mxI1FOd8sXgX",
        "outputId": "4a828fa3-962f-428a-94b3-84c24cc0f4c2"
      },
      "execution_count": null,
      "outputs": [
        {
          "output_type": "execute_result",
          "data": {
            "text/plain": [
              "         Date       Day Origin Airport Flight Number Arrival Time  \\\n",
              "0   4/21/2023    Friday            ORD       UA 3839     10:00 AM   \n",
              "1   4/21/2023    Friday            ORD       UA 3524      4:50 PM   \n",
              "2   4/21/2023    Friday            ORD        UA 538      9:34 PM   \n",
              "3   4/22/2023  Saturday            ORD       UA 3839     10:00 AM   \n",
              "4   4/22/2023  Saturday            ORD       UA 3524      4:50 PM   \n",
              "5   4/22/2023  Saturday            ORD        UA 538      9:34 PM   \n",
              "6   4/23/2023    Sunday            ORD       UA 3839     10:00 AM   \n",
              "7   4/23/2023    Sunday            ORD       UA 3524      4:55 PM   \n",
              "8   4/23/2023    Sunday            ORD        UA 538      9:34 PM   \n",
              "9   4/24/2023    Monday            ORD       UA 3839     10:00 AM   \n",
              "10  4/24/2023    Monday            ORD       UA 3524      4:50 PM   \n",
              "11  4/24/2023    Monday            ORD        UA 538      9:34 PM   \n",
              "12  4/21/2023    Friday            DEN        UA 604      3:12 PM   \n",
              "13  4/22/2023  Saturday            DEN        UA 604      3:12 PM   \n",
              "14  4/23/2023    Sunday            DEN        UA 604      3:12 PM   \n",
              "15  4/24/2023    Monday            DEN        UA 604      3:12 PM   \n",
              "16  4/21/2023    Friday            EWR       UA 4189     10:46 AM   \n",
              "17  4/21/2023    Friday            EWR       UA 1412     11:42 PM   \n",
              "18  4/22/2023  Saturday            EWR       UA 4189     10:46 AM   \n",
              "19  4/22/2023  Saturday            EWR       UA 1412     11:17 PM   \n",
              "20  4/23/2023    Sunday            EWR       UA 4189     10:46 AM   \n",
              "21  4/23/2023    Sunday            EWR       UA 1412     11:42 PM   \n",
              "22  4/24/2023    Monday            EWR       UA 4189     10:46 AM   \n",
              "23  4/24/2023    Monday            EWR       UA 1412     11:42 PM   \n",
              "24  4/21/2023    Friday            IAD       UA 4490      1:57 PM   \n",
              "25  4/21/2023    Friday            IAD       UA 4165      6:59 PM   \n",
              "26  4/22/2023  Saturday            IAD       UA 3805      1:58 PM   \n",
              "27  4/22/2023  Saturday            IAD       UA 4165      6:59 PM   \n",
              "28  4/23/2023    Sunday            IAD       UA 4490      1:57 PM   \n",
              "29  4/23/2023    Sunday            IAD       UA 4165      6:59 PM   \n",
              "30  4/24/2023    Monday            IAD       UA 4490      1:57 PM   \n",
              "31  4/24/2023    Monday            IAD       UA 4165      6:59 PM   \n",
              "32        NaN       NaN            NaN           NaN          NaN   \n",
              "33        NaN       NaN            NaN           NaN          NaN   \n",
              "34        NaN       NaN            NaN           NaN          NaN   \n",
              "\n",
              "    Status (Early, On-time, Late, Severly Late)  \n",
              "0                                           NaN  \n",
              "1                                           NaN  \n",
              "2                                           NaN  \n",
              "3                                           NaN  \n",
              "4                                           NaN  \n",
              "5                                           NaN  \n",
              "6                                           NaN  \n",
              "7                                           NaN  \n",
              "8                                           NaN  \n",
              "9                                           NaN  \n",
              "10                                          NaN  \n",
              "11                                          NaN  \n",
              "12                                          NaN  \n",
              "13                                          NaN  \n",
              "14                                          NaN  \n",
              "15                                          NaN  \n",
              "16                                          NaN  \n",
              "17                                          NaN  \n",
              "18                                          NaN  \n",
              "19                                          NaN  \n",
              "20                                          NaN  \n",
              "21                                          NaN  \n",
              "22                                          NaN  \n",
              "23                                          NaN  \n",
              "24                                          NaN  \n",
              "25                                          NaN  \n",
              "26                                          NaN  \n",
              "27                                          NaN  \n",
              "28                                          NaN  \n",
              "29                                          NaN  \n",
              "30                                          NaN  \n",
              "31                                          NaN  \n",
              "32                                          NaN  \n",
              "33                                          NaN  \n",
              "34                                          NaN  "
            ],
            "text/html": [
              "\n",
              "  <div id=\"df-641c4d46-a012-4a92-b236-014f297d3f88\">\n",
              "    <div class=\"colab-df-container\">\n",
              "      <div>\n",
              "<style scoped>\n",
              "    .dataframe tbody tr th:only-of-type {\n",
              "        vertical-align: middle;\n",
              "    }\n",
              "\n",
              "    .dataframe tbody tr th {\n",
              "        vertical-align: top;\n",
              "    }\n",
              "\n",
              "    .dataframe thead th {\n",
              "        text-align: right;\n",
              "    }\n",
              "</style>\n",
              "<table border=\"1\" class=\"dataframe\">\n",
              "  <thead>\n",
              "    <tr style=\"text-align: right;\">\n",
              "      <th></th>\n",
              "      <th>Date</th>\n",
              "      <th>Day</th>\n",
              "      <th>Origin Airport</th>\n",
              "      <th>Flight Number</th>\n",
              "      <th>Arrival Time</th>\n",
              "      <th>Status (Early, On-time, Late, Severly Late)</th>\n",
              "    </tr>\n",
              "  </thead>\n",
              "  <tbody>\n",
              "    <tr>\n",
              "      <th>0</th>\n",
              "      <td>4/21/2023</td>\n",
              "      <td>Friday</td>\n",
              "      <td>ORD</td>\n",
              "      <td>UA 3839</td>\n",
              "      <td>10:00 AM</td>\n",
              "      <td>NaN</td>\n",
              "    </tr>\n",
              "    <tr>\n",
              "      <th>1</th>\n",
              "      <td>4/21/2023</td>\n",
              "      <td>Friday</td>\n",
              "      <td>ORD</td>\n",
              "      <td>UA 3524</td>\n",
              "      <td>4:50 PM</td>\n",
              "      <td>NaN</td>\n",
              "    </tr>\n",
              "    <tr>\n",
              "      <th>2</th>\n",
              "      <td>4/21/2023</td>\n",
              "      <td>Friday</td>\n",
              "      <td>ORD</td>\n",
              "      <td>UA 538</td>\n",
              "      <td>9:34 PM</td>\n",
              "      <td>NaN</td>\n",
              "    </tr>\n",
              "    <tr>\n",
              "      <th>3</th>\n",
              "      <td>4/22/2023</td>\n",
              "      <td>Saturday</td>\n",
              "      <td>ORD</td>\n",
              "      <td>UA 3839</td>\n",
              "      <td>10:00 AM</td>\n",
              "      <td>NaN</td>\n",
              "    </tr>\n",
              "    <tr>\n",
              "      <th>4</th>\n",
              "      <td>4/22/2023</td>\n",
              "      <td>Saturday</td>\n",
              "      <td>ORD</td>\n",
              "      <td>UA 3524</td>\n",
              "      <td>4:50 PM</td>\n",
              "      <td>NaN</td>\n",
              "    </tr>\n",
              "    <tr>\n",
              "      <th>5</th>\n",
              "      <td>4/22/2023</td>\n",
              "      <td>Saturday</td>\n",
              "      <td>ORD</td>\n",
              "      <td>UA 538</td>\n",
              "      <td>9:34 PM</td>\n",
              "      <td>NaN</td>\n",
              "    </tr>\n",
              "    <tr>\n",
              "      <th>6</th>\n",
              "      <td>4/23/2023</td>\n",
              "      <td>Sunday</td>\n",
              "      <td>ORD</td>\n",
              "      <td>UA 3839</td>\n",
              "      <td>10:00 AM</td>\n",
              "      <td>NaN</td>\n",
              "    </tr>\n",
              "    <tr>\n",
              "      <th>7</th>\n",
              "      <td>4/23/2023</td>\n",
              "      <td>Sunday</td>\n",
              "      <td>ORD</td>\n",
              "      <td>UA 3524</td>\n",
              "      <td>4:55 PM</td>\n",
              "      <td>NaN</td>\n",
              "    </tr>\n",
              "    <tr>\n",
              "      <th>8</th>\n",
              "      <td>4/23/2023</td>\n",
              "      <td>Sunday</td>\n",
              "      <td>ORD</td>\n",
              "      <td>UA 538</td>\n",
              "      <td>9:34 PM</td>\n",
              "      <td>NaN</td>\n",
              "    </tr>\n",
              "    <tr>\n",
              "      <th>9</th>\n",
              "      <td>4/24/2023</td>\n",
              "      <td>Monday</td>\n",
              "      <td>ORD</td>\n",
              "      <td>UA 3839</td>\n",
              "      <td>10:00 AM</td>\n",
              "      <td>NaN</td>\n",
              "    </tr>\n",
              "    <tr>\n",
              "      <th>10</th>\n",
              "      <td>4/24/2023</td>\n",
              "      <td>Monday</td>\n",
              "      <td>ORD</td>\n",
              "      <td>UA 3524</td>\n",
              "      <td>4:50 PM</td>\n",
              "      <td>NaN</td>\n",
              "    </tr>\n",
              "    <tr>\n",
              "      <th>11</th>\n",
              "      <td>4/24/2023</td>\n",
              "      <td>Monday</td>\n",
              "      <td>ORD</td>\n",
              "      <td>UA 538</td>\n",
              "      <td>9:34 PM</td>\n",
              "      <td>NaN</td>\n",
              "    </tr>\n",
              "    <tr>\n",
              "      <th>12</th>\n",
              "      <td>4/21/2023</td>\n",
              "      <td>Friday</td>\n",
              "      <td>DEN</td>\n",
              "      <td>UA 604</td>\n",
              "      <td>3:12 PM</td>\n",
              "      <td>NaN</td>\n",
              "    </tr>\n",
              "    <tr>\n",
              "      <th>13</th>\n",
              "      <td>4/22/2023</td>\n",
              "      <td>Saturday</td>\n",
              "      <td>DEN</td>\n",
              "      <td>UA 604</td>\n",
              "      <td>3:12 PM</td>\n",
              "      <td>NaN</td>\n",
              "    </tr>\n",
              "    <tr>\n",
              "      <th>14</th>\n",
              "      <td>4/23/2023</td>\n",
              "      <td>Sunday</td>\n",
              "      <td>DEN</td>\n",
              "      <td>UA 604</td>\n",
              "      <td>3:12 PM</td>\n",
              "      <td>NaN</td>\n",
              "    </tr>\n",
              "    <tr>\n",
              "      <th>15</th>\n",
              "      <td>4/24/2023</td>\n",
              "      <td>Monday</td>\n",
              "      <td>DEN</td>\n",
              "      <td>UA 604</td>\n",
              "      <td>3:12 PM</td>\n",
              "      <td>NaN</td>\n",
              "    </tr>\n",
              "    <tr>\n",
              "      <th>16</th>\n",
              "      <td>4/21/2023</td>\n",
              "      <td>Friday</td>\n",
              "      <td>EWR</td>\n",
              "      <td>UA 4189</td>\n",
              "      <td>10:46 AM</td>\n",
              "      <td>NaN</td>\n",
              "    </tr>\n",
              "    <tr>\n",
              "      <th>17</th>\n",
              "      <td>4/21/2023</td>\n",
              "      <td>Friday</td>\n",
              "      <td>EWR</td>\n",
              "      <td>UA 1412</td>\n",
              "      <td>11:42 PM</td>\n",
              "      <td>NaN</td>\n",
              "    </tr>\n",
              "    <tr>\n",
              "      <th>18</th>\n",
              "      <td>4/22/2023</td>\n",
              "      <td>Saturday</td>\n",
              "      <td>EWR</td>\n",
              "      <td>UA 4189</td>\n",
              "      <td>10:46 AM</td>\n",
              "      <td>NaN</td>\n",
              "    </tr>\n",
              "    <tr>\n",
              "      <th>19</th>\n",
              "      <td>4/22/2023</td>\n",
              "      <td>Saturday</td>\n",
              "      <td>EWR</td>\n",
              "      <td>UA 1412</td>\n",
              "      <td>11:17 PM</td>\n",
              "      <td>NaN</td>\n",
              "    </tr>\n",
              "    <tr>\n",
              "      <th>20</th>\n",
              "      <td>4/23/2023</td>\n",
              "      <td>Sunday</td>\n",
              "      <td>EWR</td>\n",
              "      <td>UA 4189</td>\n",
              "      <td>10:46 AM</td>\n",
              "      <td>NaN</td>\n",
              "    </tr>\n",
              "    <tr>\n",
              "      <th>21</th>\n",
              "      <td>4/23/2023</td>\n",
              "      <td>Sunday</td>\n",
              "      <td>EWR</td>\n",
              "      <td>UA 1412</td>\n",
              "      <td>11:42 PM</td>\n",
              "      <td>NaN</td>\n",
              "    </tr>\n",
              "    <tr>\n",
              "      <th>22</th>\n",
              "      <td>4/24/2023</td>\n",
              "      <td>Monday</td>\n",
              "      <td>EWR</td>\n",
              "      <td>UA 4189</td>\n",
              "      <td>10:46 AM</td>\n",
              "      <td>NaN</td>\n",
              "    </tr>\n",
              "    <tr>\n",
              "      <th>23</th>\n",
              "      <td>4/24/2023</td>\n",
              "      <td>Monday</td>\n",
              "      <td>EWR</td>\n",
              "      <td>UA 1412</td>\n",
              "      <td>11:42 PM</td>\n",
              "      <td>NaN</td>\n",
              "    </tr>\n",
              "    <tr>\n",
              "      <th>24</th>\n",
              "      <td>4/21/2023</td>\n",
              "      <td>Friday</td>\n",
              "      <td>IAD</td>\n",
              "      <td>UA 4490</td>\n",
              "      <td>1:57 PM</td>\n",
              "      <td>NaN</td>\n",
              "    </tr>\n",
              "    <tr>\n",
              "      <th>25</th>\n",
              "      <td>4/21/2023</td>\n",
              "      <td>Friday</td>\n",
              "      <td>IAD</td>\n",
              "      <td>UA 4165</td>\n",
              "      <td>6:59 PM</td>\n",
              "      <td>NaN</td>\n",
              "    </tr>\n",
              "    <tr>\n",
              "      <th>26</th>\n",
              "      <td>4/22/2023</td>\n",
              "      <td>Saturday</td>\n",
              "      <td>IAD</td>\n",
              "      <td>UA 3805</td>\n",
              "      <td>1:58 PM</td>\n",
              "      <td>NaN</td>\n",
              "    </tr>\n",
              "    <tr>\n",
              "      <th>27</th>\n",
              "      <td>4/22/2023</td>\n",
              "      <td>Saturday</td>\n",
              "      <td>IAD</td>\n",
              "      <td>UA 4165</td>\n",
              "      <td>6:59 PM</td>\n",
              "      <td>NaN</td>\n",
              "    </tr>\n",
              "    <tr>\n",
              "      <th>28</th>\n",
              "      <td>4/23/2023</td>\n",
              "      <td>Sunday</td>\n",
              "      <td>IAD</td>\n",
              "      <td>UA 4490</td>\n",
              "      <td>1:57 PM</td>\n",
              "      <td>NaN</td>\n",
              "    </tr>\n",
              "    <tr>\n",
              "      <th>29</th>\n",
              "      <td>4/23/2023</td>\n",
              "      <td>Sunday</td>\n",
              "      <td>IAD</td>\n",
              "      <td>UA 4165</td>\n",
              "      <td>6:59 PM</td>\n",
              "      <td>NaN</td>\n",
              "    </tr>\n",
              "    <tr>\n",
              "      <th>30</th>\n",
              "      <td>4/24/2023</td>\n",
              "      <td>Monday</td>\n",
              "      <td>IAD</td>\n",
              "      <td>UA 4490</td>\n",
              "      <td>1:57 PM</td>\n",
              "      <td>NaN</td>\n",
              "    </tr>\n",
              "    <tr>\n",
              "      <th>31</th>\n",
              "      <td>4/24/2023</td>\n",
              "      <td>Monday</td>\n",
              "      <td>IAD</td>\n",
              "      <td>UA 4165</td>\n",
              "      <td>6:59 PM</td>\n",
              "      <td>NaN</td>\n",
              "    </tr>\n",
              "    <tr>\n",
              "      <th>32</th>\n",
              "      <td>NaN</td>\n",
              "      <td>NaN</td>\n",
              "      <td>NaN</td>\n",
              "      <td>NaN</td>\n",
              "      <td>NaN</td>\n",
              "      <td>NaN</td>\n",
              "    </tr>\n",
              "    <tr>\n",
              "      <th>33</th>\n",
              "      <td>NaN</td>\n",
              "      <td>NaN</td>\n",
              "      <td>NaN</td>\n",
              "      <td>NaN</td>\n",
              "      <td>NaN</td>\n",
              "      <td>NaN</td>\n",
              "    </tr>\n",
              "    <tr>\n",
              "      <th>34</th>\n",
              "      <td>NaN</td>\n",
              "      <td>NaN</td>\n",
              "      <td>NaN</td>\n",
              "      <td>NaN</td>\n",
              "      <td>NaN</td>\n",
              "      <td>NaN</td>\n",
              "    </tr>\n",
              "  </tbody>\n",
              "</table>\n",
              "</div>\n",
              "      <button class=\"colab-df-convert\" onclick=\"convertToInteractive('df-641c4d46-a012-4a92-b236-014f297d3f88')\"\n",
              "              title=\"Convert this dataframe to an interactive table.\"\n",
              "              style=\"display:none;\">\n",
              "        \n",
              "  <svg xmlns=\"http://www.w3.org/2000/svg\" height=\"24px\"viewBox=\"0 0 24 24\"\n",
              "       width=\"24px\">\n",
              "    <path d=\"M0 0h24v24H0V0z\" fill=\"none\"/>\n",
              "    <path d=\"M18.56 5.44l.94 2.06.94-2.06 2.06-.94-2.06-.94-.94-2.06-.94 2.06-2.06.94zm-11 1L8.5 8.5l.94-2.06 2.06-.94-2.06-.94L8.5 2.5l-.94 2.06-2.06.94zm10 10l.94 2.06.94-2.06 2.06-.94-2.06-.94-.94-2.06-.94 2.06-2.06.94z\"/><path d=\"M17.41 7.96l-1.37-1.37c-.4-.4-.92-.59-1.43-.59-.52 0-1.04.2-1.43.59L10.3 9.45l-7.72 7.72c-.78.78-.78 2.05 0 2.83L4 21.41c.39.39.9.59 1.41.59.51 0 1.02-.2 1.41-.59l7.78-7.78 2.81-2.81c.8-.78.8-2.07 0-2.86zM5.41 20L4 18.59l7.72-7.72 1.47 1.35L5.41 20z\"/>\n",
              "  </svg>\n",
              "      </button>\n",
              "      \n",
              "  <style>\n",
              "    .colab-df-container {\n",
              "      display:flex;\n",
              "      flex-wrap:wrap;\n",
              "      gap: 12px;\n",
              "    }\n",
              "\n",
              "    .colab-df-convert {\n",
              "      background-color: #E8F0FE;\n",
              "      border: none;\n",
              "      border-radius: 50%;\n",
              "      cursor: pointer;\n",
              "      display: none;\n",
              "      fill: #1967D2;\n",
              "      height: 32px;\n",
              "      padding: 0 0 0 0;\n",
              "      width: 32px;\n",
              "    }\n",
              "\n",
              "    .colab-df-convert:hover {\n",
              "      background-color: #E2EBFA;\n",
              "      box-shadow: 0px 1px 2px rgba(60, 64, 67, 0.3), 0px 1px 3px 1px rgba(60, 64, 67, 0.15);\n",
              "      fill: #174EA6;\n",
              "    }\n",
              "\n",
              "    [theme=dark] .colab-df-convert {\n",
              "      background-color: #3B4455;\n",
              "      fill: #D2E3FC;\n",
              "    }\n",
              "\n",
              "    [theme=dark] .colab-df-convert:hover {\n",
              "      background-color: #434B5C;\n",
              "      box-shadow: 0px 1px 3px 1px rgba(0, 0, 0, 0.15);\n",
              "      filter: drop-shadow(0px 1px 2px rgba(0, 0, 0, 0.3));\n",
              "      fill: #FFFFFF;\n",
              "    }\n",
              "  </style>\n",
              "\n",
              "      <script>\n",
              "        const buttonEl =\n",
              "          document.querySelector('#df-641c4d46-a012-4a92-b236-014f297d3f88 button.colab-df-convert');\n",
              "        buttonEl.style.display =\n",
              "          google.colab.kernel.accessAllowed ? 'block' : 'none';\n",
              "\n",
              "        async function convertToInteractive(key) {\n",
              "          const element = document.querySelector('#df-641c4d46-a012-4a92-b236-014f297d3f88');\n",
              "          const dataTable =\n",
              "            await google.colab.kernel.invokeFunction('convertToInteractive',\n",
              "                                                     [key], {});\n",
              "          if (!dataTable) return;\n",
              "\n",
              "          const docLinkHtml = 'Like what you see? Visit the ' +\n",
              "            '<a target=\"_blank\" href=https://colab.research.google.com/notebooks/data_table.ipynb>data table notebook</a>'\n",
              "            + ' to learn more about interactive tables.';\n",
              "          element.innerHTML = '';\n",
              "          dataTable['output_type'] = 'display_data';\n",
              "          await google.colab.output.renderOutput(dataTable, element);\n",
              "          const docLink = document.createElement('div');\n",
              "          docLink.innerHTML = docLinkHtml;\n",
              "          element.appendChild(docLink);\n",
              "        }\n",
              "      </script>\n",
              "    </div>\n",
              "  </div>\n",
              "  "
            ]
          },
          "metadata": {},
          "execution_count": 29
        }
      ]
    },
    {
      "cell_type": "code",
      "source": [
        "Dep = [\"7:10\",\"13:55\",\"18:40\",\"7:10\",\"13:55\",\"18:40\",\"7:10\",\"14:00\",\"18:40\",\"7:10\",\"13:55\",\"18:40\",\"9:51\",\"9:51\",\"9:51\",\"9:51\",\"9:15\",\"22:30\",\"9:15\",\"22:05\",\"9:15\",\"22:30\",\"9:15\",\"22:30\",\"12:43\",\"17:36\",\"12:43\",\"17:36\",\"12:43\",\"17:36\",\"12:43\",\"17:36\"]\n",
        "sub.drop(columns = ['Status (Early, On-time, Late, Severly Late)'], inplace = True)\n",
        "\n",
        "Dep = Dep + [None] * (len(sub) - len(Dep))\n",
        "\n",
        "sub['Scheduled departure time'] = Dep\n",
        "sub.dropna(inplace = True)"
      ],
      "metadata": {
        "id": "zhiVVrxiqwqi"
      },
      "execution_count": null,
      "outputs": []
    },
    {
      "cell_type": "code",
      "source": [
        "sub['Status (Early, On-time, Late, Severly Late)'] = y_pred"
      ],
      "metadata": {
        "id": "r8mxPZELrLsz"
      },
      "execution_count": null,
      "outputs": []
    },
    {
      "cell_type": "code",
      "source": [
        "sub.to_excel('submission.xlsx')"
      ],
      "metadata": {
        "id": "hFcfByPBrzoK"
      },
      "execution_count": null,
      "outputs": []
    }
  ]
}